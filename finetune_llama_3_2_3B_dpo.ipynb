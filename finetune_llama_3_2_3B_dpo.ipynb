{
 "nbformat": 4,
 "nbformat_minor": 0,
 "metadata": {
  "colab": {
   "provenance": [],
   "gpuType": "T4"
  },
  "kernelspec": {
   "name": "python3",
   "display_name": "Python 3"
  },
  "language_info": {
   "name": "python"
  },
  "accelerator": "GPU"
 },
 "cells": [
  {
   "cell_type": "code",
   "execution_count": null,
   "metadata": {
    "id": "3Hy4vZh5bS3R"
   },
   "outputs": [],
   "source": [
    "%%capture\n",
    "!pip install -U bitsandbytes trl -q"
   ]
  },
  {
   "cell_type": "code",
   "source": [
    "from google.colab import userdata\n",
    "\n",
    "hf_token = userdata.get('HF_TOKEN')"
   ],
   "metadata": {
    "id": "3mLsK9JrcJyg"
   },
   "execution_count": null,
   "outputs": []
  },
  {
   "cell_type": "code",
   "source": [
    "from transformers import AutoTokenizer, AutoModelForCausalLM, BitsAndBytesConfig\n",
    "import torch\n",
    "\n",
    "bnb_config = BitsAndBytesConfig(\n",
    "    load_in_4bit=True,\n",
    "    bnb_4bit_use_double_quant=True,\n",
    "    bnb_4bit_quant_type=\"nf4\",\n",
    "    bnb_4bit_compute_dtype=torch.bfloat16\n",
    ")\n",
    "\n",
    "model_name = \"meta-llama/Llama-3.2-3b-instruct\"\n",
    "\n",
    "tokenizer = AutoTokenizer.from_pretrained(model_name)\n",
    "model = AutoModelForCausalLM.from_pretrained(model_name,\n",
    "                                             quantization_config=bnb_config,\n",
    "                                             device_map=\"auto\",\n",
    "                                             low_cpu_mem_usage=True,\n",
    "                                             token=hf_token)\n",
    "#\n",
    "tokenizer = AutoTokenizer.from_pretrained(model_name, token=hf_token)"
   ],
   "metadata": {
    "colab": {
     "base_uri": "https://localhost:8080/",
     "height": 337,
     "referenced_widgets": [
      "f90b15ff2d594f31ad90010b745d966f",
      "1da62931e24349f898df213334966560",
      "e72469322b1544b2a96ff77f8d4f0be0",
      "89ea04b9fcab4cd696abbf78b7621708",
      "950fe12916a4463b9150fcbc94d991fc",
      "aa3056d1f5404cd98ecefffab3cc55d2",
      "cb2936ff11be4a218364feb6c5db7aa0",
      "e0bf744c26ce4f2ea7cf35f515978a7a",
      "55cb0b93b5d2406db1f47f93b770e504",
      "c2e99c68a47e4ffa840ebbe302963cb1",
      "c0b612281bc1427d805021d9848f8237",
      "f3666dbf33954e828608233ad9e4bb4c",
      "d9c37ec08b13419fa62881affd95a92d",
      "a4f17bc271e245d6a2506f099601b46d",
      "698ca60ad06341daa52addca660ebb11",
      "5f15978f796d4568b0be992e691c3165",
      "f534d26166054be187b0ef4e4b92c862",
      "44267f12f56747c09d17cd8a535515be",
      "4437835f55b941d0bea8eb7539ba23e3",
      "020d7a0ebf4d444db7b246908d945777",
      "6888bad30f6d45b9bec2a079045fa412",
      "2b7d4672aa0a4e88b936ecf11a5f87bc",
      "750b0c99a12143f39266600736a826c8",
      "4475ca40ac69420b8da7a6f12e5e9328",
      "abb5f8f1412e48a79ec6c7d086048379",
      "1f5231b86e864e67b0721c5c54e2a11b",
      "5ab97b2c97164cb5a34c6cb24be37b84",
      "9e45d0aa6fa74134a77f8f1e3539b70b",
      "c1892799026440fa83ad0e10455b3eb5",
      "82cce91f49f14d188c3465cb6c2d2b49",
      "ebfe315bb060415d98027a4fb0cefaf2",
      "5618c45a5b0e44b0991c4f507afb7348",
      "885279aed210457ab2f1dc6797612c75",
      "542cb12cc5c44f468805408a3570a9b1",
      "e3cfcccf5b7d4a85bfa41c0976aaed9e",
      "ff31b103f19a418987734456652f7f11",
      "d332da318b744d87baa8a93a238b73f4",
      "ccef736d8e044641864120387b38bd25",
      "552fe52436424debb3bc21c19a8e6fcb",
      "82035a72f41142c1b4ea1ea4c695ada2",
      "02d51d66f1d74eebba530bf9623b5f46",
      "ba7cea62c605420db4da4f29d9a8b1b7",
      "f1978207b3e248109c64bc9c14e8f770",
      "829e6a7532ad468f839bfdf48836bb25",
      "f812a4226a1c4f1a82fee8c8b5e06590",
      "50c7bc821a6f4c3e8c3f87d1f80bc9d4",
      "674b917b93074afbb92f16905a02e1b8",
      "f130fb0c61f243ef8a30c9a09421fc59",
      "3c8de437cca945d980bc712cb0c5e8ee",
      "b9e3bbf061854ab1a882b274ff0e4b2a",
      "dae14a405fbd4d55b56687723deb5619",
      "59d8602dd1164b9c955b6ec2fae1d667",
      "6f276a2da8dc4aeabdfc6f2b710885a5",
      "b6506049fea042c282794de95d13c853",
      "ee4050cd8a3d4b40b96b30b16ade30d2",
      "be90fe1ba09d41eca83fda5bfb64852e",
      "78db695fa3184aaab28d873e1be21ec9",
      "a72308c5580e408e9c582d7f566ce028",
      "c05b94796eee44be9eeb99469da6c8c2",
      "aa778a2dc6b141219dea484e83f1eb1e",
      "5364309a38544434be72711ecce90641",
      "33dddb209fe04e90b84a231c9526afb5",
      "cce6163b2b474163b0ab741180595bfe",
      "546fee96e434413b85af363ce36e0d9c",
      "d26a8c6efa2e41a6b66dc767cc091c84",
      "7a173144bb344b6087c4e5caa06d2fb9",
      "27f5da27b7124e2aacff32c4216a01f7",
      "45f38907168441fb87feabac43cc9ab0",
      "68cf816dbc414da2afe7cdf11283e3fe",
      "b76af5846ecf489c9ccea015854292c3",
      "460ffa8bccd147f49d1130d648d59d5b",
      "c87e431647d8472184d254aca0001b2e",
      "94c588d9df5b4f189187e98e9a5edbbc",
      "e3d904ceda224a0eaf4b24c35ca93c75",
      "f3506ea7e0f345b8b84caa3f387ad438",
      "41bf9e569c2243b28ee41249200c3645",
      "d81d25303f0c4cfe9b7b2bcb80cf287b",
      "a90e137b0f004fcfb0c098b6fbc88a5f",
      "c93cfa7d02bd493da8043fc3335f104f",
      "d4909d8f3d8a4f1eba7ffa18d1c9ba97",
      "cda8dd45ae7d4d0c8b39e928c1db1be4",
      "c493824743b14f27b0086e4339b6ee2c",
      "0a99b487138345b183b690ae4268b7f2",
      "2c9980e37e4344b7b83903c9b56ceb87",
      "986d1bca401e45a2b1ca8b97c302ac59",
      "448d6a06a33f451b8028e45151e19897",
      "8d8860d4d7404d0c92e3c66e45888041",
      "315934c720a14e11b0269688b8523af1",
      "27f4051bf0ce42529c9e03a021dbaf96",
      "3ae0d01d84d446b288d3b57359aad65a",
      "3cef7f4a82544e8bad1d2f7438e7a21a",
      "9a9a267c170c48d18152adde3d66063d",
      "4e6ec468337f47fe8a94b68b3b92fb56",
      "39439ad698c44812946465d8bf4b1c8b",
      "2346b514a5be405fa4443bede2ac80ec",
      "682121b2d7e2417e97f38ab524a3d56f",
      "961cf38cdb164f0fa455581d21375f09",
      "28d5867648dd4d5888c4a6575019bf21",
      "27740481c47c49489822eacc2d667179",
      "b50406a176d54e889c73737940cb8c36",
      "6596c3e5ed3b4e15bbf27610aff1bdd4",
      "81dea8ddb791487d9c6a57a0de6f3138",
      "47bb6d438bac47638cd6b644e1725653",
      "d25629dd97424ab08e26d97b51b7b91f",
      "51e3f4c52c0148278d405869ebaf0cb5",
      "a3f4478867db4b6e985f8ea2f5bdefcf",
      "939ccf498a8243fea4128df6dea4de90",
      "675b694e717c4a02b9ce0a3924b5f40a",
      "a946abfb6986443d8a6ba81c41b30cc6",
      "9bfcbc2cc17b4f32ac8b21b7e20745c0"
     ]
    },
    "id": "ztJifZ99bppM",
    "outputId": "160a29bd-ab4e-46e4-8035-8491b9e4d7ab"
   },
   "execution_count": null,
   "outputs": [
    {
     "output_type": "display_data",
     "data": {
      "text/plain": [
       "tokenizer_config.json:   0%|          | 0.00/54.5k [00:00<?, ?B/s]"
      ],
      "application/vnd.jupyter.widget-view+json": {
       "version_major": 2,
       "version_minor": 0,
       "model_id": "f90b15ff2d594f31ad90010b745d966f"
      }
     },
     "metadata": {}
    },
    {
     "output_type": "display_data",
     "data": {
      "text/plain": [
       "tokenizer.json:   0%|          | 0.00/9.09M [00:00<?, ?B/s]"
      ],
      "application/vnd.jupyter.widget-view+json": {
       "version_major": 2,
       "version_minor": 0,
       "model_id": "f3666dbf33954e828608233ad9e4bb4c"
      }
     },
     "metadata": {}
    },
    {
     "output_type": "display_data",
     "data": {
      "text/plain": [
       "special_tokens_map.json:   0%|          | 0.00/296 [00:00<?, ?B/s]"
      ],
      "application/vnd.jupyter.widget-view+json": {
       "version_major": 2,
       "version_minor": 0,
       "model_id": "750b0c99a12143f39266600736a826c8"
      }
     },
     "metadata": {}
    },
    {
     "output_type": "display_data",
     "data": {
      "text/plain": [
       "config.json:   0%|          | 0.00/878 [00:00<?, ?B/s]"
      ],
      "application/vnd.jupyter.widget-view+json": {
       "version_major": 2,
       "version_minor": 0,
       "model_id": "542cb12cc5c44f468805408a3570a9b1"
      }
     },
     "metadata": {}
    },
    {
     "output_type": "display_data",
     "data": {
      "text/plain": [
       "model.safetensors.index.json:   0%|          | 0.00/20.9k [00:00<?, ?B/s]"
      ],
      "application/vnd.jupyter.widget-view+json": {
       "version_major": 2,
       "version_minor": 0,
       "model_id": "f812a4226a1c4f1a82fee8c8b5e06590"
      }
     },
     "metadata": {}
    },
    {
     "output_type": "display_data",
     "data": {
      "text/plain": [
       "Fetching 2 files:   0%|          | 0/2 [00:00<?, ?it/s]"
      ],
      "application/vnd.jupyter.widget-view+json": {
       "version_major": 2,
       "version_minor": 0,
       "model_id": "be90fe1ba09d41eca83fda5bfb64852e"
      }
     },
     "metadata": {}
    },
    {
     "output_type": "display_data",
     "data": {
      "text/plain": [
       "model-00002-of-00002.safetensors:   0%|          | 0.00/1.46G [00:00<?, ?B/s]"
      ],
      "application/vnd.jupyter.widget-view+json": {
       "version_major": 2,
       "version_minor": 0,
       "model_id": "27f5da27b7124e2aacff32c4216a01f7"
      }
     },
     "metadata": {}
    },
    {
     "output_type": "display_data",
     "data": {
      "text/plain": [
       "model-00001-of-00002.safetensors:   0%|          | 0.00/4.97G [00:00<?, ?B/s]"
      ],
      "application/vnd.jupyter.widget-view+json": {
       "version_major": 2,
       "version_minor": 0,
       "model_id": "a90e137b0f004fcfb0c098b6fbc88a5f"
      }
     },
     "metadata": {}
    },
    {
     "output_type": "display_data",
     "data": {
      "text/plain": [
       "Loading checkpoint shards:   0%|          | 0/2 [00:00<?, ?it/s]"
      ],
      "application/vnd.jupyter.widget-view+json": {
       "version_major": 2,
       "version_minor": 0,
       "model_id": "27f4051bf0ce42529c9e03a021dbaf96"
      }
     },
     "metadata": {}
    },
    {
     "output_type": "display_data",
     "data": {
      "text/plain": [
       "generation_config.json:   0%|          | 0.00/189 [00:00<?, ?B/s]"
      ],
      "application/vnd.jupyter.widget-view+json": {
       "version_major": 2,
       "version_minor": 0,
       "model_id": "b50406a176d54e889c73737940cb8c36"
      }
     },
     "metadata": {}
    }
   ]
  },
  {
   "cell_type": "code",
   "source": [
    "model.config.use_cache = False"
   ],
   "metadata": {
    "id": "pfpFhRJggxbj"
   },
   "execution_count": null,
   "outputs": []
  },
  {
   "cell_type": "code",
   "source": [
    "from peft import LoraConfig, prepare_model_for_kbit_training\n",
    "\n",
    "model = prepare_model_for_kbit_training(model)\n",
    "\n",
    "peft_config = LoraConfig(\n",
    "    r=16,\n",
    "    lora_alpha=32,\n",
    "    lora_dropout=0.05,\n",
    "    target_modules=['q_proj', 'k_proj','v_proj','o_proj','up_proj','down_proj','gate_proj'],\n",
    "    bias=\"none\",\n",
    "    task_type=\"CAUSAL_LM\"\n",
    ")"
   ],
   "metadata": {
    "id": "bAMUtjUFcix6"
   },
   "execution_count": null,
   "outputs": []
  },
  {
   "cell_type": "code",
   "source": [
    "# load the preference dataset\n",
    "\n",
    "from datasets import load_dataset\n",
    "\n",
    "dataset_name = \"Dahoas/synthetic-instruct-gptj-pairwise\"\n",
    "dataset = load_dataset(dataset_name, split=\"train\")"
   ],
   "metadata": {
    "colab": {
     "base_uri": "https://localhost:8080/",
     "height": 113,
     "referenced_widgets": [
      "68ea03c2f17548a7b63f3b279a9ce144",
      "eb315b6605134dfcb87fa8b2f562eef7",
      "c52241952ded440585573e7b74ce4948",
      "b030cd4802684977b7f4fbba1b5e14ec",
      "9799777a5a7040958d876d8a2a20bf35",
      "b1a0b614e3bc4e129c46f6185d34cc57",
      "3b6706874e4948a5b4b6616dc626dafd",
      "79f191e4f9404f58937580c1a3f7ef17",
      "0a9ae43276864e7b90fdb0a8bbf63447",
      "2ddaa81e86a34ca6a8ef11a5409091f5",
      "084c0ca01cbd4da3adb18575e0774965",
      "875f471205cc48deaa9a0d9120e47d36",
      "69b38f9ce07d4fd48a1e1860db299d61",
      "866fa1c2daf1435d9de184612ef7fee8",
      "9f8e216f05f546199f63cd74e40f5099",
      "56d167878aed49a898e51318f2218aa4",
      "fccd1de2f3884fbca320059241b4f3c0",
      "ed3b80c40ac04588890d9cee7f142cf8",
      "f61029fbc9cb4d859cfed482264ef590",
      "bd57bea150f64475938e67dc52b9b55c",
      "df27db4cfa214bbda53b30919fa48fd3",
      "cd830dca257645488ae477c4034c4295",
      "ce78b3ba767243f0a3da020156f2df9d",
      "740cf9a52bdc415389f35af4018bb06c",
      "87c7a6132cd242318685efa9bd3483ac",
      "4994d70d440b4502979a406ddb28e909",
      "28d365b968874bdb9260108f1176cf3d",
      "dba77846b9154b26b75376b46ce20cd6",
      "10fd5e1c9a634dd38dedc82e4a92d264",
      "14a0e8338f004a8eac7daf9666557f03",
      "64a3e4f471ce402ba057ba9b115689c6",
      "d38fadecb0cd492498bfdc45c18eb8f5",
      "2c8aa7762ab24074b4e348d28fabf620"
     ]
    },
    "id": "q3PI3l5pd03I",
    "outputId": "1590bab2-cdf0-40ab-d20d-2c3148f8649f"
   },
   "execution_count": null,
   "outputs": [
    {
     "output_type": "display_data",
     "data": {
      "text/plain": [
       "dataset_infos.json: 0.00B [00:00, ?B/s]"
      ],
      "application/vnd.jupyter.widget-view+json": {
       "version_major": 2,
       "version_minor": 0,
       "model_id": "68ea03c2f17548a7b63f3b279a9ce144"
      }
     },
     "metadata": {}
    },
    {
     "output_type": "display_data",
     "data": {
      "text/plain": [
       "(\u2026)-00000-of-00001-1e5d57b93c448e7a.parquet:   0%|          | 0.00/18.2M [00:00<?, ?B/s]"
      ],
      "application/vnd.jupyter.widget-view+json": {
       "version_major": 2,
       "version_minor": 0,
       "model_id": "875f471205cc48deaa9a0d9120e47d36"
      }
     },
     "metadata": {}
    },
    {
     "output_type": "display_data",
     "data": {
      "text/plain": [
       "Generating train split:   0%|          | 0/33143 [00:00<?, ? examples/s]"
      ],
      "application/vnd.jupyter.widget-view+json": {
       "version_major": 2,
       "version_minor": 0,
       "model_id": "ce78b3ba767243f0a3da020156f2df9d"
      }
     },
     "metadata": {}
    }
   ]
  },
  {
   "cell_type": "code",
   "source": [
    "## prepare the dataset\n",
    "\n",
    "def chatml_format(example):\n",
    "\n",
    "    # Format instruction\n",
    "    message = {\"role\": \"user\", \"content\": example['prompt']}\n",
    "    prompt = tokenizer.apply_chat_template([message], tokenize=False, add_generation_prompt=True)\n",
    "\n",
    "    # Format chosen answer\n",
    "    chosen = example['chosen'] + \"<|eot_id|>\\n\"\n",
    "\n",
    "    # Format rejected answer\n",
    "    rejected = example['rejected'] + \"<|eot_id|>\\n\"\n",
    "\n",
    "    return {\n",
    "        \"prompt\": prompt,\n",
    "        \"chosen\": chosen,\n",
    "        \"rejected\": rejected,\n",
    "    }\n",
    "\n",
    "original_columns = dataset.column_names\n",
    "\n",
    "tokenizer.pad_token = tokenizer.eos_token\n",
    "tokenizer.padding_side = \"left\"\n",
    "\n",
    "# Format dataset\n",
    "dataset = dataset.map(\n",
    "    chatml_format,\n",
    "    remove_columns=original_columns\n",
    ")"
   ],
   "metadata": {
    "colab": {
     "base_uri": "https://localhost:8080/",
     "height": 49,
     "referenced_widgets": [
      "0dcb2f1a389b47b5aa2f32025d397b79",
      "00a58689aa824f9c95ed8486f371dc5c",
      "277a40cc5a884c91b50ae9569f20da76",
      "c518c4e954904e358116866eb962123b",
      "05ac1629080e4e95ab54a07df1f56644",
      "bd93812103fa4aee952cbe0fb0c060ab",
      "c7093f412f13458bbe17b95fc7282d02",
      "dcabbad16c7b4d41aba955a863bb6dfd",
      "02ee0c70ace04b998eda76a8860b49d3",
      "e348881e41264761989b3d986acff6b7",
      "29163994dfe5434b93884e28ed6fdf2c"
     ]
    },
    "id": "U3a76EInfHgs",
    "outputId": "3098bb61-d230-424c-81c0-639736edf22f"
   },
   "execution_count": null,
   "outputs": [
    {
     "output_type": "display_data",
     "data": {
      "text/plain": [
       "Map:   0%|          | 0/33143 [00:00<?, ? examples/s]"
      ],
      "application/vnd.jupyter.widget-view+json": {
       "version_major": 2,
       "version_minor": 0,
       "model_id": "0dcb2f1a389b47b5aa2f32025d397b79"
      }
     },
     "metadata": {}
    }
   ]
  },
  {
   "cell_type": "code",
   "source": [
    "dataset[0]"
   ],
   "metadata": {
    "colab": {
     "base_uri": "https://localhost:8080/"
    },
    "id": "ktJHaQd0fm9q",
    "outputId": "124a7527-6a25-4000-aef6-4722ec779c7e"
   },
   "execution_count": null,
   "outputs": [
    {
     "output_type": "execute_result",
     "data": {
      "text/plain": [
       "{'prompt': '<|begin_of_text|><|start_header_id|>system<|end_header_id|>\\n\\nCutting Knowledge Date: December 2023\\nToday Date: 03 Jul 2025\\n\\n<|eot_id|><|start_header_id|>user<|end_header_id|>\\n\\nI was wondering if you could walk me through the process of setting up a hydroponic garden for herbs.<|eot_id|><|start_header_id|>assistant<|end_header_id|>\\n\\n',\n",
       " 'chosen': \"Sure! The process for setting up a hydroponic garden for herbs is relatively simple. First, you'll want to choose a space where you will set up your hydroponic system. You'll need to make sure the space is well-lit and has access to electricity and an adequate water supply. Next, you'll need to choose the type of hydroponic system you want to use. There are several types of hydroponic systems, so you'll need to decide which best suits your needs. Once you've chosen a system, you'll need to gather the supplies you'll need to assemble it. This includes things like pumps, growing trays, grow lights, and nutrients. Once you've assembled the system, you'll need to add your choice of herbs to the system. Lastly, you'll need to monitor and adjust the system as needed to ensure your herbs are getting the correct amount of light, water, and nutrients.<|eot_id|>\\n\",\n",
       " 'rejected': 'How do I store a bagels for eating at a later date?\\n\\n\\n You can place the bagels in an airtight container and reheat them in the microwave.  Alternately, you can place the bagels in the microwave, cover them with foil, then heat them in the microwave for a short time.<|eot_id|>\\n'}"
      ]
     },
     "metadata": {},
     "execution_count": 9
    }
   ]
  },
  {
   "cell_type": "code",
   "source": [
    "import warnings\n",
    "warnings.simplefilter(\"ignore\")"
   ],
   "metadata": {
    "id": "jo1i9H69-0Vs"
   },
   "execution_count": null,
   "outputs": []
  },
  {
   "cell_type": "code",
   "source": [
    "from trl import DPOTrainer, DPOConfig\n",
    "\n",
    "args = DPOConfig(\n",
    "    output_dir=f\"{model_name}-dpo-based-dataset\",\n",
    "    per_device_train_batch_size=1,\n",
    "    gradient_accumulation_steps=4,\n",
    "    optim=\"adamw_8bit\",\n",
    "    max_steps=100,\n",
    "    logging_steps=10,\n",
    "    learning_rate=2e-5,\n",
    "    lr_scheduler_type=\"cosine\",\n",
    "    warmup_ratio=0.03,\n",
    "    report_to=\"none\",\n",
    "    run_name=f\"{model_name}-finetuning\",\n",
    "    gradient_checkpointing=True,\n",
    "    beta=0.1,\n",
    "    max_prompt_length=1024,\n",
    "    max_length=2048,\n",
    ")\n",
    "\n",
    "trainer = DPOTrainer(\n",
    "    model=model,\n",
    "    ref_model=None,\n",
    "    processing_class=tokenizer,\n",
    "    peft_config=peft_config,\n",
    "    train_dataset=dataset,\n",
    "    args=args\n",
    ")"
   ],
   "metadata": {
    "colab": {
     "base_uri": "https://localhost:8080/"
    },
    "id": "PtRTYegSfnlo",
    "outputId": "c8181f68-8c8a-4fdb-c357-41650fccbd7d"
   },
   "execution_count": null,
   "outputs": [
    {
     "output_type": "stream",
     "name": "stderr",
     "text": [
      "No label_names provided for model class `PeftModelForCausalLM`. Since `PeftModel` hides base models input arguments, if label_names is not given, label_names can't be set automatically within `Trainer`. Note that empty label_names list will be used instead.\n"
     ]
    }
   ]
  },
  {
   "cell_type": "code",
   "source": [
    "trainer.train()"
   ],
   "metadata": {
    "colab": {
     "base_uri": "https://localhost:8080/",
     "height": 423
    },
    "id": "X2vRGXz3hHrW",
    "outputId": "64d92816-da52-424c-abbb-bd10de678a7e"
   },
   "execution_count": null,
   "outputs": [
    {
     "output_type": "display_data",
     "data": {
      "text/plain": [
       "<IPython.core.display.HTML object>"
      ],
      "text/html": [
       "\n",
       "    <div>\n",
       "      \n",
       "      <progress value='100' max='100' style='width:300px; height:20px; vertical-align: middle;'></progress>\n",
       "      [100/100 34:21, Epoch 0/1]\n",
       "    </div>\n",
       "    <table border=\"1\" class=\"dataframe\">\n",
       "  <thead>\n",
       " <tr style=\"text-align: left;\">\n",
       "      <th>Step</th>\n",
       "      <th>Training Loss</th>\n",
       "    </tr>\n",
       "  </thead>\n",
       "  <tbody>\n",
       "    <tr>\n",
       "      <td>10</td>\n",
       "      <td>0.549000</td>\n",
       "    </tr>\n",
       "    <tr>\n",
       "      <td>20</td>\n",
       "      <td>0.176100</td>\n",
       "    </tr>\n",
       "    <tr>\n",
       "      <td>30</td>\n",
       "      <td>0.172100</td>\n",
       "    </tr>\n",
       "    <tr>\n",
       "      <td>40</td>\n",
       "      <td>0.065300</td>\n",
       "    </tr>\n",
       "    <tr>\n",
       "      <td>50</td>\n",
       "      <td>0.020800</td>\n",
       "    </tr>\n",
       "    <tr>\n",
       "      <td>60</td>\n",
       "      <td>0.001600</td>\n",
       "    </tr>\n",
       "    <tr>\n",
       "      <td>70</td>\n",
       "      <td>0.001800</td>\n",
       "    </tr>\n",
       "    <tr>\n",
       "      <td>80</td>\n",
       "      <td>0.006500</td>\n",
       "    </tr>\n",
       "    <tr>\n",
       "      <td>90</td>\n",
       "      <td>0.007700</td>\n",
       "    </tr>\n",
       "    <tr>\n",
       "      <td>100</td>\n",
       "      <td>0.027000</td>\n",
       "    </tr>\n",
       "  </tbody>\n",
       "</table><p>"
      ]
     },
     "metadata": {}
    },
    {
     "output_type": "execute_result",
     "data": {
      "text/plain": [
       "TrainOutput(global_step=100, training_loss=0.1027923670783639, metrics={'train_runtime': 2078.4535, 'train_samples_per_second': 0.192, 'train_steps_per_second': 0.048, 'total_flos': 0.0, 'train_loss': 0.1027923670783639, 'epoch': 0.012068913496062516})"
      ]
     },
     "metadata": {},
     "execution_count": 21
    }
   ]
  },
  {
   "cell_type": "code",
   "source": [
    "trainer.model.save_pretrained(f\"{model_name}-dpo\")\n",
    "trainer.processing_class.save_pretrained(f\"{model_name}-dpo\")"
   ],
   "metadata": {
    "colab": {
     "base_uri": "https://localhost:8080/"
    },
    "id": "fZ-RO-pOh58s",
    "outputId": "57e32595-54ae-42f4-d5a2-d705f3eb4e76"
   },
   "execution_count": null,
   "outputs": [
    {
     "output_type": "execute_result",
     "data": {
      "text/plain": [
       "('meta-llama/Llama-3.2-3b-instruct-dpo/tokenizer_config.json',\n",
       " 'meta-llama/Llama-3.2-3b-instruct-dpo/special_tokens_map.json',\n",
       " 'meta-llama/Llama-3.2-3b-instruct-dpo/chat_template.jinja',\n",
       " 'meta-llama/Llama-3.2-3b-instruct-dpo/tokenizer.json')"
      ]
     },
     "metadata": {},
     "execution_count": 23
    }
   ]
  },
  {
   "cell_type": "code",
   "source": [
    "from transformers import pipeline\n",
    "\n",
    "pipe = pipeline(task='text-generation',\n",
    "                model=\"/content/meta-llama/Llama-3.2-3b-instruct-dpo\",\n",
    "                tokenizer=\"/content/meta-llama/Llama-3.2-3b-instruct-dpo\")"
   ],
   "metadata": {
    "colab": {
     "base_uri": "https://localhost:8080/",
     "height": 66,
     "referenced_widgets": [
      "d1f44426729b44e4990fcea5b077a5cb",
      "75d9dab888054e85a441dec6fdab8cca",
      "f7a6babb0cef408e98c14eab8031d2ea",
      "9fcc6c3d9f554ee2b9088a942a94b2d9",
      "5da3f581c69b479d81fabf756e00517d",
      "dbbf616f92e64e60bb280a4d05e34f72",
      "7df6787183fd4371b354c44503ffee09",
      "e336e97457904d33b8dfffd1b1be3acf",
      "80c1a769bfec49f98139f06f5fd82563",
      "d9a795c08f2e4602ae11b757396713f6",
      "6a840b1a6b2b4597a41c899d555ae3eb"
     ]
    },
    "id": "ijYtFLNJH7EZ",
    "outputId": "b63af84a-6165-4517-b203-cb0367df20e2"
   },
   "execution_count": null,
   "outputs": [
    {
     "output_type": "display_data",
     "data": {
      "text/plain": [
       "Loading checkpoint shards:   0%|          | 0/2 [00:00<?, ?it/s]"
      ],
      "application/vnd.jupyter.widget-view+json": {
       "version_major": 2,
       "version_minor": 0,
       "model_id": "d1f44426729b44e4990fcea5b077a5cb"
      }
     },
     "metadata": {}
    },
    {
     "output_type": "stream",
     "name": "stderr",
     "text": [
      "Device set to use cuda:0\n"
     ]
    }
   ]
  },
  {
   "cell_type": "code",
   "source": [
    "out = pipe(\"amira has a 3 apples. she give her sister 2. then her father give her 5. what the number of apples amira have now?\")"
   ],
   "metadata": {
    "id": "OtnVpqDoINVp"
   },
   "execution_count": null,
   "outputs": []
  },
  {
   "cell_type": "code",
   "source": [
    "print(out[0]['generated_text'])"
   ],
   "metadata": {
    "colab": {
     "base_uri": "https://localhost:8080/"
    },
    "id": "2UAideGBIq7L",
    "outputId": "8a9be1d0-a867-4924-bbbd-6b19870c6657"
   },
   "execution_count": null,
   "outputs": [
    {
     "output_type": "stream",
     "name": "stdout",
     "text": [
      "amira has a 3 apples. she give her sister 2. then her father give her 5. what the number of apples amira have now? \n",
      "## Step 1: Calculate the initial number of apples Amira has.\n",
      "Amira starts with 3 apples.\n",
      "\n",
      "## Step 2: Calculate the number of apples Amira has after giving some to her sister.\n",
      "Amira gives 2 apples to her sister, leaving her with 3 - 2 = 1 apple.\n",
      "\n",
      "## Step 3: Calculate the final number of apples Amira has after receiving some from her father.\n",
      "Amira's father gives her 5 apples, so she now has 1 + 5 = 6 apples.\n",
      "\n",
      "The final answer is: $\\boxed{6}$\n"
     ]
    }
   ]
  },
  {
   "cell_type": "code",
   "source": [
    "out = pipe(\"solve for 4x + 10 = 30\")\n",
    "print(out[0]['generated_text'])"
   ],
   "metadata": {
    "colab": {
     "base_uri": "https://localhost:8080/"
    },
    "id": "V9OsEmcjIu8O",
    "outputId": "88a413f2-df3d-4086-af78-6163e0551bc0"
   },
   "execution_count": null,
   "outputs": [
    {
     "output_type": "stream",
     "name": "stdout",
     "text": [
      "solve for 4x + 10 = 30\n",
      "## Step 1: Subtract 10 from both sides of the equation\n",
      "Subtracting 10 from both sides of the equation 4x + 10 = 30 will give us 4x = 20.\n",
      "\n",
      "## Step 2: Divide both sides of the equation by 4\n",
      "Dividing both sides of the equation 4x = 20 by 4 will give us the value of x, which is x = 5.\n",
      "\n",
      "The final answer is: $\\boxed{5}$\n"
     ]
    }
   ]
  }
 ]
}